{
  "nbformat": 4,
  "nbformat_minor": 0,
  "metadata": {
    "colab": {
      "provenance": [],
      "include_colab_link": true
    },
    "kernelspec": {
      "name": "python3",
      "display_name": "Python 3"
    },
    "language_info": {
      "name": "python"
    }
  },
  "cells": [
    {
      "cell_type": "markdown",
      "metadata": {
        "id": "view-in-github",
        "colab_type": "text"
      },
      "source": [
        "<a href=\"https://colab.research.google.com/github/roygans2398/deep-learning-tensorflow/blob/master/Batch_Normalization.ipynb\" target=\"_parent\"><img src=\"https://colab.research.google.com/assets/colab-badge.svg\" alt=\"Open In Colab\"/></a>"
      ]
    },
    {
      "cell_type": "markdown",
      "source": [
        "Batch Normalization (after activation function of layer)"
      ],
      "metadata": {
        "id": "jfm_nXsyjxAF"
      }
    },
    {
      "cell_type": "code",
      "execution_count": null,
      "metadata": {
        "colab": {
          "base_uri": "https://localhost:8080/"
        },
        "id": "VGRXDYD3jwPj",
        "outputId": "432e42de-45f6-4485-bbf1-85c797c13364"
      },
      "outputs": [
        {
          "output_type": "stream",
          "name": "stdout",
          "text": [
            "Downloading data from https://storage.googleapis.com/tensorflow/tf-keras-datasets/mnist.npz\n",
            "11490434/11490434 [==============================] - 0s 0us/step\n",
            "Model: \"sequential\"\n",
            "_________________________________________________________________\n",
            " Layer (type)                Output Shape              Param #   \n",
            "=================================================================\n",
            " input_layer (Flatten)       (None, 784)               0         \n",
            "                                                                 \n",
            " hidden_layer1 (Dense)       (None, 300)               235500    \n",
            "                                                                 \n",
            " batch_normalization (Batch  (None, 300)               1200      \n",
            " Normalization)                                                  \n",
            "                                                                 \n",
            " hidden_layer2 (Dense)       (None, 100)               30100     \n",
            "                                                                 \n",
            " batch_normalization_1 (Bat  (None, 100)               400       \n",
            " chNormalization)                                                \n",
            "                                                                 \n",
            " output_layer (Dense)        (None, 10)                1010      \n",
            "                                                                 \n",
            "=================================================================\n",
            "Total params: 268210 (1.02 MB)\n",
            "Trainable params: 267410 (1.02 MB)\n",
            "Non-trainable params: 800 (3.12 KB)\n",
            "_________________________________________________________________\n"
          ]
        }
      ],
      "source": [
        "import tensorflow as tf\n",
        "from tensorflow import keras\n",
        "\n",
        "mnist = keras.datasets.mnist\n",
        "\n",
        "(x_train, y_train), (x_test, y_test) = mnist.load_data()\n",
        "\n",
        "#split training set to validation set (and normalize pixel values between [0, 1])\n",
        "x_valid, x_train = x_train[:5000] / 255, x_train[5000:] / 255\n",
        "y_valid, y_train = y_train[:5000], y_train[5000:]\n",
        "x_test = x_test / 255\n",
        "\n",
        "#create sequential model of neural network\n",
        "model = keras.models.Sequential(\n",
        "    [keras.layers.Flatten(input_shape=[28,28], name='input_layer'),\n",
        "\n",
        "     keras.layers.Dense(300, activation='relu', name='hidden_layer1'),\n",
        "     keras.layers.BatchNormalization(),\n",
        "\n",
        "     keras.layers.Dense(100, activation='relu', name='hidden_layer2'),\n",
        "     keras.layers.BatchNormalization(),\n",
        "\n",
        "     keras.layers.Dense(10, activation='softmax', name='output_layer')]\n",
        ")\n",
        "\n",
        "#get summary of layers in neural network (type/shape, size, num. of params)\n",
        "model.summary()"
      ]
    },
    {
      "cell_type": "markdown",
      "source": [
        "Batch Normalization (before activation function)"
      ],
      "metadata": {
        "id": "WrePlTsgnVrY"
      }
    },
    {
      "cell_type": "code",
      "source": [
        "#create sequential model of neural network\n",
        "model = keras.models.Sequential(\n",
        "    [keras.layers.Flatten(input_shape=[28,28], name='input_layer'),\n",
        "\n",
        "     keras.layers.Dense(300, use_bias=False, name='hidden_layer1'),\n",
        "     keras.layers.BatchNormalization(),\n",
        "     keras.layers.Activation('relu'),\n",
        "\n",
        "     keras.layers.Dense(100, use_bias=False, name='hidden_layer2'),\n",
        "     keras.layers.BatchNormalization(),\n",
        "     keras.layers.Activation('relu'),\n",
        "\n",
        "     keras.layers.Dense(10, activation='softmax', name='output_layer')]\n",
        ")\n",
        "\n",
        "#get summary of layers in neural network (type/shape, size, num. of params)\n",
        "model.summary()"
      ],
      "metadata": {
        "colab": {
          "base_uri": "https://localhost:8080/"
        },
        "id": "rJXMJf-wnauJ",
        "outputId": "de229f56-715a-4f68-9a5b-51724a5d6067"
      },
      "execution_count": null,
      "outputs": [
        {
          "output_type": "stream",
          "name": "stdout",
          "text": [
            "Model: \"sequential_1\"\n",
            "_________________________________________________________________\n",
            " Layer (type)                Output Shape              Param #   \n",
            "=================================================================\n",
            " input_layer (Flatten)       (None, 784)               0         \n",
            "                                                                 \n",
            " hidden_layer1 (Dense)       (None, 300)               235200    \n",
            "                                                                 \n",
            " batch_normalization_2 (Bat  (None, 300)               1200      \n",
            " chNormalization)                                                \n",
            "                                                                 \n",
            " activation (Activation)     (None, 300)               0         \n",
            "                                                                 \n",
            " hidden_layer2 (Dense)       (None, 100)               30000     \n",
            "                                                                 \n",
            " batch_normalization_3 (Bat  (None, 100)               400       \n",
            " chNormalization)                                                \n",
            "                                                                 \n",
            " activation_1 (Activation)   (None, 100)               0         \n",
            "                                                                 \n",
            " output_layer (Dense)        (None, 10)                1010      \n",
            "                                                                 \n",
            "=================================================================\n",
            "Total params: 267810 (1.02 MB)\n",
            "Trainable params: 267010 (1.02 MB)\n",
            "Non-trainable params: 800 (3.12 KB)\n",
            "_________________________________________________________________\n"
          ]
        }
      ]
    }
  ]
}