{
  "nbformat": 4,
  "nbformat_minor": 0,
  "metadata": {
    "colab": {
      "provenance": [],
      "include_colab_link": true
    },
    "kernelspec": {
      "name": "python3",
      "display_name": "Python 3"
    },
    "language_info": {
      "name": "python"
    }
  },
  "cells": [
    {
      "cell_type": "markdown",
      "metadata": {
        "id": "view-in-github",
        "colab_type": "text"
      },
      "source": [
        "<a href=\"https://colab.research.google.com/github/roygans2398/deep-learning-tensorflow/blob/master/hyperparameter_config.ipynb\" target=\"_parent\"><img src=\"https://colab.research.google.com/assets/colab-badge.svg\" alt=\"Open In Colab\"/></a>"
      ]
    },
    {
      "cell_type": "code",
      "execution_count": null,
      "metadata": {
        "colab": {
          "base_uri": "https://localhost:8080/"
        },
        "id": "F9Z4lIKVzJIv",
        "outputId": "b86b9c78-bfdd-4c8a-bf28-c89ade607d1e"
      },
      "outputs": [
        {
          "output_type": "stream",
          "name": "stdout",
          "text": [
            "Model: \"sequential_11\"\n",
            "_________________________________________________________________\n",
            " Layer (type)                Output Shape              Param #   \n",
            "=================================================================\n",
            " input_layer (Flatten)       (None, 784)               0         \n",
            "                                                                 \n",
            " hidden_layer1 (Dense)       (None, 300)               235500    \n",
            "                                                                 \n",
            " hidden_layer2 (Dense)       (None, 100)               30100     \n",
            "                                                                 \n",
            " output_layer (Dense)        (None, 10)                1010      \n",
            "                                                                 \n",
            "=================================================================\n",
            "Total params: 266610 (1.02 MB)\n",
            "Trainable params: 266610 (1.02 MB)\n",
            "Non-trainable params: 0 (0.00 Byte)\n",
            "_________________________________________________________________\n",
            "Epoch 1/30\n",
            "1719/1719 - 7s - loss: 0.6308 - accuracy: 0.8345 - val_loss: 0.3067 - val_accuracy: 0.9188 - 7s/epoch - 4ms/step\n",
            "Epoch 2/30\n",
            "1719/1719 - 8s - loss: 0.2846 - accuracy: 0.9191 - val_loss: 0.2407 - val_accuracy: 0.9364 - 8s/epoch - 5ms/step\n",
            "Epoch 3/30\n",
            "1719/1719 - 6s - loss: 0.2332 - accuracy: 0.9335 - val_loss: 0.2098 - val_accuracy: 0.9416 - 6s/epoch - 4ms/step\n",
            "Epoch 4/30\n",
            "1719/1719 - 8s - loss: 0.2002 - accuracy: 0.9429 - val_loss: 0.1815 - val_accuracy: 0.9484 - 8s/epoch - 5ms/step\n",
            "Epoch 5/30\n",
            "1719/1719 - 7s - loss: 0.1754 - accuracy: 0.9499 - val_loss: 0.1604 - val_accuracy: 0.9550 - 7s/epoch - 4ms/step\n",
            "Epoch 6/30\n",
            "1719/1719 - 8s - loss: 0.1560 - accuracy: 0.9557 - val_loss: 0.1475 - val_accuracy: 0.9588 - 8s/epoch - 4ms/step\n",
            "Epoch 7/30\n",
            "1719/1719 - 8s - loss: 0.1400 - accuracy: 0.9603 - val_loss: 0.1376 - val_accuracy: 0.9596 - 8s/epoch - 4ms/step\n",
            "Epoch 8/30\n",
            "1719/1719 - 7s - loss: 0.1265 - accuracy: 0.9647 - val_loss: 0.1334 - val_accuracy: 0.9614 - 7s/epoch - 4ms/step\n",
            "Epoch 9/30\n",
            "1719/1719 - 8s - loss: 0.1151 - accuracy: 0.9677 - val_loss: 0.1250 - val_accuracy: 0.9664 - 8s/epoch - 4ms/step\n",
            "Epoch 10/30\n",
            "1719/1719 - 7s - loss: 0.1056 - accuracy: 0.9701 - val_loss: 0.1122 - val_accuracy: 0.9688 - 7s/epoch - 4ms/step\n",
            "Epoch 11/30\n",
            "1719/1719 - 8s - loss: 0.0971 - accuracy: 0.9734 - val_loss: 0.1094 - val_accuracy: 0.9694 - 8s/epoch - 4ms/step\n",
            "Epoch 12/30\n",
            "1719/1719 - 6s - loss: 0.0897 - accuracy: 0.9747 - val_loss: 0.1032 - val_accuracy: 0.9708 - 6s/epoch - 4ms/step\n",
            "Epoch 13/30\n",
            "1719/1719 - 8s - loss: 0.0828 - accuracy: 0.9770 - val_loss: 0.0980 - val_accuracy: 0.9720 - 8s/epoch - 4ms/step\n",
            "Epoch 14/30\n",
            "1719/1719 - 8s - loss: 0.0768 - accuracy: 0.9789 - val_loss: 0.0928 - val_accuracy: 0.9736 - 8s/epoch - 4ms/step\n",
            "Epoch 15/30\n",
            "1719/1719 - 7s - loss: 0.0716 - accuracy: 0.9804 - val_loss: 0.0964 - val_accuracy: 0.9728 - 7s/epoch - 4ms/step\n",
            "Epoch 16/30\n",
            "1719/1719 - 8s - loss: 0.0669 - accuracy: 0.9814 - val_loss: 0.0879 - val_accuracy: 0.9746 - 8s/epoch - 4ms/step\n",
            "Epoch 17/30\n",
            "1719/1719 - 7s - loss: 0.0625 - accuracy: 0.9827 - val_loss: 0.0839 - val_accuracy: 0.9752 - 7s/epoch - 4ms/step\n",
            "Epoch 18/30\n",
            "1719/1719 - 8s - loss: 0.0588 - accuracy: 0.9843 - val_loss: 0.0857 - val_accuracy: 0.9756 - 8s/epoch - 5ms/step\n",
            "Epoch 19/30\n",
            "1719/1719 - 7s - loss: 0.0550 - accuracy: 0.9850 - val_loss: 0.0816 - val_accuracy: 0.9784 - 7s/epoch - 4ms/step\n",
            "Epoch 20/30\n",
            "1719/1719 - 8s - loss: 0.0514 - accuracy: 0.9863 - val_loss: 0.0800 - val_accuracy: 0.9780 - 8s/epoch - 5ms/step\n",
            "Epoch 21/30\n",
            "1719/1719 - 7s - loss: 0.0487 - accuracy: 0.9873 - val_loss: 0.0800 - val_accuracy: 0.9778 - 7s/epoch - 4ms/step\n",
            "Epoch 22/30\n",
            "1719/1719 - 7s - loss: 0.0457 - accuracy: 0.9878 - val_loss: 0.0770 - val_accuracy: 0.9778 - 7s/epoch - 4ms/step\n",
            "Epoch 23/30\n",
            "1719/1719 - 8s - loss: 0.0431 - accuracy: 0.9887 - val_loss: 0.0760 - val_accuracy: 0.9788 - 8s/epoch - 5ms/step\n",
            "Epoch 24/30\n",
            "1719/1719 - 7s - loss: 0.0406 - accuracy: 0.9896 - val_loss: 0.0738 - val_accuracy: 0.9776 - 7s/epoch - 4ms/step\n",
            "Epoch 25/30\n",
            "1719/1719 - 8s - loss: 0.0382 - accuracy: 0.9906 - val_loss: 0.0723 - val_accuracy: 0.9788 - 8s/epoch - 5ms/step\n",
            "Epoch 26/30\n",
            "1719/1719 - 6s - loss: 0.0362 - accuracy: 0.9908 - val_loss: 0.0738 - val_accuracy: 0.9792 - 6s/epoch - 4ms/step\n",
            "Epoch 27/30\n",
            "1719/1719 - 8s - loss: 0.0341 - accuracy: 0.9914 - val_loss: 0.0715 - val_accuracy: 0.9800 - 8s/epoch - 5ms/step\n",
            "Epoch 28/30\n",
            "1719/1719 - 8s - loss: 0.0321 - accuracy: 0.9921 - val_loss: 0.0723 - val_accuracy: 0.9800 - 8s/epoch - 4ms/step\n",
            "Epoch 29/30\n",
            "1719/1719 - 7s - loss: 0.0303 - accuracy: 0.9931 - val_loss: 0.0718 - val_accuracy: 0.9792 - 7s/epoch - 4ms/step\n",
            "Epoch 30/30\n",
            "1719/1719 - 8s - loss: 0.0285 - accuracy: 0.9933 - val_loss: 0.0697 - val_accuracy: 0.9804 - 8s/epoch - 4ms/step\n"
          ]
        },
        {
          "output_type": "execute_result",
          "data": {
            "text/plain": [
              "<keras.src.callbacks.History at 0x7a9da934d5a0>"
            ]
          },
          "metadata": {},
          "execution_count": 22
        }
      ],
      "source": [
        "import tensorflow as tf\n",
        "from tensorflow import keras\n",
        "\n",
        "mnist = keras.datasets.mnist\n",
        "\n",
        "(x_train, y_train), (x_test, y_test) = mnist.load_data()\n",
        "\n",
        "#split training set to validation set (and normalize pixel values between [0, 1])\n",
        "x_valid, x_train = x_train[:5000] / 255, x_train[5000:] / 255\n",
        "y_valid, y_train = y_train[:5000], y_train[5000:]\n",
        "x_test = x_test / 255\n",
        "\n",
        "#create sequential model of neural network\n",
        "model = keras.models.Sequential(\n",
        "    [keras.layers.Flatten(input_shape=[28,28], name='input_layer'),\n",
        "     keras.layers.Dense(300, activation='relu', name='hidden_layer1'),\n",
        "     keras.layers.Dense(100, activation='relu', name='hidden_layer2'),\n",
        "     keras.layers.Dense(10, activation='softmax', name='output_layer')]\n",
        ")\n",
        "\n",
        "#get summary of layers in neural network (type/shape, size, num. of params)\n",
        "model.summary()\n",
        "\n",
        "#compile model (configure loss function, optimizers, learning rate, metrics/logs while training model)\n",
        "opt = keras.optimizers.SGD(learning_rate=0.01)\n",
        "model.compile(loss='sparse_categorical_crossentropy', optimizer=opt, metrics=['accuracy'])\n",
        "\n",
        "#fit model (add hyperparameters)\n",
        "model.fit(x_train, y_train, epochs=30, validation_data=(x_valid, y_valid), batch_size=32, verbose=2)"
      ]
    }
  ]
}