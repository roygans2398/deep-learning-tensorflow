{
  "nbformat": 4,
  "nbformat_minor": 0,
  "metadata": {
    "colab": {
      "provenance": [],
      "include_colab_link": true
    },
    "kernelspec": {
      "name": "python3",
      "display_name": "Python 3"
    },
    "language_info": {
      "name": "python"
    }
  },
  "cells": [
    {
      "cell_type": "markdown",
      "metadata": {
        "id": "view-in-github",
        "colab_type": "text"
      },
      "source": [
        "<a href=\"https://colab.research.google.com/github/roygans2398/deep-learning-tensorflow/blob/master/deep_learning_stanford.ipynb\" target=\"_parent\"><img src=\"https://colab.research.google.com/assets/colab-badge.svg\" alt=\"Open In Colab\"/></a>"
      ]
    },
    {
      "cell_type": "code",
      "execution_count": null,
      "metadata": {
        "colab": {
          "base_uri": "https://localhost:8080/"
        },
        "id": "AhDoQhjmM_7a",
        "outputId": "9d197371-a5b4-413e-c354-c2d228b1be94"
      },
      "outputs": [
        {
          "output_type": "stream",
          "name": "stdout",
          "text": [
            "11\n"
          ]
        }
      ],
      "source": [
        "# @title Test Colab Python Program - 'Hello World!'\n",
        "s = 1\n",
        "print(str(s) + '1')"
      ]
    },
    {
      "cell_type": "markdown",
      "source": [
        "Create a Computational Graph via 'Numpy' modules.\n",
        "Compute function: (x*y) + z\n",
        "Output: Scalar c (sum of all values of vector)"
      ],
      "metadata": {
        "id": "kt7l59kEcNy2"
      }
    },
    {
      "cell_type": "code",
      "source": [
        "import numpy as np\n",
        "np.random.seed(0)\n",
        "\n",
        "N, D = 3, 4\n",
        "\n",
        "x = np.random.randn(N, D)\n",
        "y = np.random.randn(N, D)\n",
        "z = np.random.randn(N, D)\n",
        "\n",
        "a = x * y\n",
        "b = a + z\n",
        "c = np.sum(b)\n",
        "\n",
        "print('x matrix:\\n' + str(x) + '\\n')\n",
        "print('y matrix:\\n' + str(y) + '\\n')\n",
        "print('a=(x*y) matrix:\\n' + str(a))\n",
        "\n",
        "print(c)"
      ],
      "metadata": {
        "colab": {
          "base_uri": "https://localhost:8080/"
        },
        "id": "PF26fJqUcnKH",
        "outputId": "e16eae49-33af-49ee-9282-fbe28eb537a7"
      },
      "execution_count": null,
      "outputs": [
        {
          "output_type": "stream",
          "name": "stdout",
          "text": [
            "x matrix:\n",
            "[[ 1.76405235  0.40015721  0.97873798  2.2408932 ]\n",
            " [ 1.86755799 -0.97727788  0.95008842 -0.15135721]\n",
            " [-0.10321885  0.4105985   0.14404357  1.45427351]]\n",
            "\n",
            "y matrix:\n",
            "[[ 0.76103773  0.12167502  0.44386323  0.33367433]\n",
            " [ 1.49407907 -0.20515826  0.3130677  -0.85409574]\n",
            " [-2.55298982  0.6536186   0.8644362  -0.74216502]]\n",
            "\n",
            "a=(x*y) matrix:\n",
            "[[ 1.34251038  0.04868913  0.43442581  0.74772853]\n",
            " [ 2.79027931  0.20049663  0.297442    0.12927355]\n",
            " [ 0.26351668  0.26837482  0.12451648 -1.07931093]]\n",
            "6.717008537800067\n"
          ]
        }
      ]
    },
    {
      "cell_type": "markdown",
      "source": [
        "Calculate Backpropagation for previous Computational Graph (via 'Numpy' modules)"
      ],
      "metadata": {
        "id": "9xLBeT3CfZVs"
      }
    },
    {
      "cell_type": "code",
      "source": [
        "import numpy as np\n",
        "np.random.seed(0)\n",
        "\n",
        "N, D = 3, 4\n",
        "\n",
        "x = np.random.randn(N, D)\n",
        "y = np.random.randn(N, D)\n",
        "z = np.random.randn(N, D)\n",
        "\n",
        "a = x * y\n",
        "b = a + z\n",
        "c = np.sum(b)\n",
        "\n",
        "grad_c = 1.0\n",
        "grad_b = grad_c * np.ones((N, D))\n",
        "grad_a = grad_b.copy()\n",
        "grad_z = grad_b.copy()\n",
        "grad_x = grad_a * y\n",
        "grad_y = grad_a * x\n",
        "\n",
        "print(\"The gradient with respect to inputs (x,y,z) is: \" + str((grad_x, grad_y, grad_z)))"
      ],
      "metadata": {
        "colab": {
          "base_uri": "https://localhost:8080/"
        },
        "id": "9fXJ_MfwfiJ0",
        "outputId": "1f03e206-6873-420c-8e00-bb1c0870f029"
      },
      "execution_count": null,
      "outputs": [
        {
          "output_type": "stream",
          "name": "stdout",
          "text": [
            "The gradient with respect to inputs (x,y,z) is: (array([[ 0.76103773,  0.12167502,  0.44386323,  0.33367433],\n",
            "       [ 1.49407907, -0.20515826,  0.3130677 , -0.85409574],\n",
            "       [-2.55298982,  0.6536186 ,  0.8644362 , -0.74216502]]), array([[ 1.76405235,  0.40015721,  0.97873798,  2.2408932 ],\n",
            "       [ 1.86755799, -0.97727788,  0.95008842, -0.15135721],\n",
            "       [-0.10321885,  0.4105985 ,  0.14404357,  1.45427351]]), array([[1., 1., 1., 1.],\n",
            "       [1., 1., 1., 1.],\n",
            "       [1., 1., 1., 1.]]))\n"
          ]
        }
      ]
    },
    {
      "cell_type": "markdown",
      "source": [
        "Gradient Calculation with TensorFlow modules (same as previous example Computational Graph)\n",
        "\n",
        "TensorFlow calculates gradient automatically (without explicitly specifying backpropagation as with Numpy)"
      ],
      "metadata": {
        "id": "tiHuAWE8gmKI"
      }
    },
    {
      "cell_type": "code",
      "source": [
        "import numpy as np\n",
        "np.random.seed(0)\n",
        "import tensorflow as tf\n",
        "\n",
        "N, D = 3, 4\n",
        "\n",
        "with tf.device('/gpu:0'):\n",
        "  x = tf.placeholder(tf.float32, shape=())\n",
        "  y = tf.placeholder(tf.float32, shape=())\n",
        "  z = tf.placeholder(tf.float32, shape=())\n",
        "\n",
        "  a = x * y\n",
        "  b = a + z\n",
        "\n",
        "  #loss function value\n",
        "  c = tf.reduce_sum(b)\n",
        "\n",
        "  grad_x, grad_y, grad_z = tf.gradients(c, [x, y, z])\n",
        "\n",
        "with tf.Session() as sess:\n",
        "  values = {\n",
        "      x: np.random.randn(N, D),\n",
        "      y: np.random.randn(N, D),\n",
        "      z: np.random.randn(N, D)\n",
        "  }\n",
        "\n",
        "  out = sess.run([c, grad_x, grad_y, grad_z], feed_dict=values)\n",
        "  c_val, grad_x_val, grad_y_val, grad_z_val = out\n",
        "\n",
        "  print(c_val)"
      ],
      "metadata": {
        "colab": {
          "base_uri": "https://localhost:8080/",
          "height": 245
        },
        "id": "dlmAecMKiYml",
        "outputId": "a49fd63c-a714-4fac-cd90-c6e22e0da3b2"
      },
      "execution_count": null,
      "outputs": [
        {
          "output_type": "error",
          "ename": "AttributeError",
          "evalue": "ignored",
          "traceback": [
            "\u001b[0;31m---------------------------------------------------------------------------\u001b[0m",
            "\u001b[0;31mAttributeError\u001b[0m                            Traceback (most recent call last)",
            "\u001b[0;32m<ipython-input-41-de7f2733ad13>\u001b[0m in \u001b[0;36m<cell line: 7>\u001b[0;34m()\u001b[0m\n\u001b[1;32m      6\u001b[0m \u001b[0;34m\u001b[0m\u001b[0m\n\u001b[1;32m      7\u001b[0m \u001b[0;32mwith\u001b[0m \u001b[0mtf\u001b[0m\u001b[0;34m.\u001b[0m\u001b[0mdevice\u001b[0m\u001b[0;34m(\u001b[0m\u001b[0;34m'/gpu:0'\u001b[0m\u001b[0;34m)\u001b[0m\u001b[0;34m:\u001b[0m\u001b[0;34m\u001b[0m\u001b[0;34m\u001b[0m\u001b[0m\n\u001b[0;32m----> 8\u001b[0;31m   \u001b[0mx\u001b[0m \u001b[0;34m=\u001b[0m \u001b[0mtf\u001b[0m\u001b[0;34m.\u001b[0m\u001b[0mplaceholder\u001b[0m\u001b[0;34m(\u001b[0m\u001b[0mtf\u001b[0m\u001b[0;34m.\u001b[0m\u001b[0mfloat32\u001b[0m\u001b[0;34m,\u001b[0m \u001b[0mshape\u001b[0m\u001b[0;34m=\u001b[0m\u001b[0;34m(\u001b[0m\u001b[0;34m)\u001b[0m\u001b[0;34m)\u001b[0m\u001b[0;34m\u001b[0m\u001b[0;34m\u001b[0m\u001b[0m\n\u001b[0m\u001b[1;32m      9\u001b[0m   \u001b[0my\u001b[0m \u001b[0;34m=\u001b[0m \u001b[0mtf\u001b[0m\u001b[0;34m.\u001b[0m\u001b[0mplaceholder\u001b[0m\u001b[0;34m(\u001b[0m\u001b[0mtf\u001b[0m\u001b[0;34m.\u001b[0m\u001b[0mfloat32\u001b[0m\u001b[0;34m,\u001b[0m \u001b[0mshape\u001b[0m\u001b[0;34m=\u001b[0m\u001b[0;34m(\u001b[0m\u001b[0;34m)\u001b[0m\u001b[0;34m)\u001b[0m\u001b[0;34m\u001b[0m\u001b[0;34m\u001b[0m\u001b[0m\n\u001b[1;32m     10\u001b[0m   \u001b[0mz\u001b[0m \u001b[0;34m=\u001b[0m \u001b[0mtf\u001b[0m\u001b[0;34m.\u001b[0m\u001b[0mplaceholder\u001b[0m\u001b[0;34m(\u001b[0m\u001b[0mtf\u001b[0m\u001b[0;34m.\u001b[0m\u001b[0mfloat32\u001b[0m\u001b[0;34m,\u001b[0m \u001b[0mshape\u001b[0m\u001b[0;34m=\u001b[0m\u001b[0;34m(\u001b[0m\u001b[0;34m)\u001b[0m\u001b[0;34m)\u001b[0m\u001b[0;34m\u001b[0m\u001b[0;34m\u001b[0m\u001b[0m\n",
            "\u001b[0;31mAttributeError\u001b[0m: module 'tensorflow' has no attribute 'placeholder'"
          ]
        }
      ]
    },
    {
      "cell_type": "markdown",
      "source": [
        "Gradient Computation in PyTorch modules (with previous computational graph)"
      ],
      "metadata": {
        "id": "JaYF0HxAx_wt"
      }
    },
    {
      "cell_type": "code",
      "source": [
        "import torch\n",
        "from torch.autograd import Variable\n",
        "\n",
        "N, D = 3, 4\n",
        "\n",
        "#can add .cuda() after torch.randn(N, D) to execute on GPU and not CPU as default\n",
        "\n",
        "x = Variable(torch.randn(N, D), requires_grad=True)\n",
        "y = Variable(torch.randn(N, D), requires_grad=True)\n",
        "z = Variable(torch.randn(N, D), requires_grad=True)\n",
        "\n",
        "a = x * y\n",
        "b = a + z\n",
        "c = torch.sum(b)\n",
        "\n",
        "c.backward()\n",
        "\n",
        "print(x.grad.data)\n",
        "print(y.grad.data)\n",
        "print(z.grad.data)\n",
        "print(torch.cuda.is_available())"
      ],
      "metadata": {
        "colab": {
          "base_uri": "https://localhost:8080/"
        },
        "id": "FYY0tmVfyHc6",
        "outputId": "b3b92e18-85da-49ec-c3f0-013e19bde20c"
      },
      "execution_count": null,
      "outputs": [
        {
          "output_type": "stream",
          "name": "stdout",
          "text": [
            "tensor([[-1.0963,  0.7732,  0.8076, -1.3650],\n",
            "        [-0.7115,  0.7999,  1.3843,  2.0684],\n",
            "        [-0.5252,  0.6253,  0.2275, -1.1628]])\n",
            "tensor([[ 0.9165,  0.9909,  1.6288,  0.8475],\n",
            "        [ 1.9316,  0.4837, -1.8765,  0.4717],\n",
            "        [-0.2072, -0.1743, -0.0939,  1.8537]])\n",
            "tensor([[1., 1., 1., 1.],\n",
            "        [1., 1., 1., 1.],\n",
            "        [1., 1., 1., 1.]])\n",
            "False\n"
          ]
        }
      ]
    },
    {
      "cell_type": "markdown",
      "source": [
        "Keras Example"
      ],
      "metadata": {
        "id": "L3iQ97utppiB"
      }
    },
    {
      "cell_type": "code",
      "source": [
        "import tensorflow as tf\n",
        "from tensorflow import keras\n",
        "import matplotlib.pyplot as plt\n",
        "\n",
        "mnist = keras.datasets.mnist\n",
        "(x_train, y_train), (x_test, y_test) = mnist.load_data()\n",
        "\n",
        "#shape of training set 'x'\n",
        "x_train.shape\n",
        "\n",
        "fig, axes = plt.subplots(nrows=3, ncols=3, figsize=(10,10))\n",
        "a = 0\n",
        "\n",
        "for i in range(3):\n",
        "  for j in range(3):\n",
        "    axes[i, j].imshow(x_train[a], cmap = plt.get_cmap('gray'))\n",
        "    a = a + 1\n",
        "\n",
        "plt.show()"
      ],
      "metadata": {
        "colab": {
          "base_uri": "https://localhost:8080/",
          "height": 832
        },
        "id": "SqIsM_iypruS",
        "outputId": "fce9544f-174f-496f-e50b-1bcdcb75c347"
      },
      "execution_count": null,
      "outputs": [
        {
          "output_type": "display_data",
          "data": {
            "text/plain": [
              "<Figure size 1000x1000 with 9 Axes>"
            ],
            "image/png": "[encoded data removed]"
          },
          "metadata": {}
        }
      ]
    },
    {
      "cell_type": "code",
      "source": [
        "print(y_train[0])\n",
        "plt.imshow(x_train[0], cmap = plt.get_cmap('gray'))"
      ],
      "metadata": {
        "colab": {
          "base_uri": "https://localhost:8080/",
          "height": 465
        },
        "id": "1gyjAxG-uEZZ",
        "outputId": "3016c291-88ab-4865-fabc-c5941d3db0dc"
      },
      "execution_count": null,
      "outputs": [
        {
          "output_type": "stream",
          "name": "stdout",
          "text": [
            "7\n"
          ]
        },
        {
          "output_type": "execute_result",
          "data": {
            "text/plain": [
              "<matplotlib.image.AxesImage at 0x7c55d0564070>"
            ]
          },
          "metadata": {},
          "execution_count": 25
        },
        {
          "output_type": "display_data",
          "data": {
            "text/plain": [
              "<Figure size 640x480 with 1 Axes>"
            ],
            "image/png": "[encoded data removed]"
          },
          "metadata": {}
        }
      ]
    },
    {
      "cell_type": "code",
      "source": [
        "x_train.shape"
      ],
      "metadata": {
        "colab": {
          "base_uri": "https://localhost:8080/"
        },
        "id": "EWbJ7jTL_xaA",
        "outputId": "0fc4a42d-e1f2-41fa-9279-dc52c9d5f9ae"
      },
      "execution_count": null,
      "outputs": [
        {
          "output_type": "execute_result",
          "data": {
            "text/plain": [
              "(60000, 28, 28)"
            ]
          },
          "metadata": {},
          "execution_count": 61
        }
      ]
    },
    {
      "cell_type": "code",
      "source": [
        "x_valid, x_train = x_train[:5000] / 255, x_train[5000:] / 255\n",
        "y_valid, y_train = y_train[:5000], y_train[5000:]\n",
        "x_test = x_test / 255\n",
        "\n",
        "x_train.shape"
      ],
      "metadata": {
        "colab": {
          "base_uri": "https://localhost:8080/"
        },
        "id": "DtkeO3V_vkHb",
        "outputId": "3c3a476c-a3c2-45e6-f963-ffd8a81c6d6f"
      },
      "execution_count": null,
      "outputs": [
        {
          "output_type": "execute_result",
          "data": {
            "text/plain": [
              "(55000, 28, 28)"
            ]
          },
          "metadata": {},
          "execution_count": 62
        }
      ]
    },
    {
      "cell_type": "code",
      "source": [
        "model = keras.models.Sequential()\n",
        "model.add(keras.layers.Flatten(input_shape=[28, 28], name = \"input_flattened_vector_layer\"))\n",
        "model.add(keras.layers.Dense(300, activation = \"relu\", name='fc_hidden_layer_1'))\n",
        "model.add(keras.layers.Dense(100, activation = 'relu', name='fc_hidden_layer_2'))\n",
        "model.add(keras.layers.Dense(10, activation = 'softmax', name = 'output_layer'))"
      ],
      "metadata": {
        "id": "nLQ9sV9y8B1D"
      },
      "execution_count": null,
      "outputs": []
    },
    {
      "cell_type": "code",
      "source": [
        "model.summary()"
      ],
      "metadata": {
        "colab": {
          "base_uri": "https://localhost:8080/"
        },
        "id": "X8rJvIF28sBg",
        "outputId": "23031d06-d6ce-446c-bbbe-5ded7fd3e35d"
      },
      "execution_count": null,
      "outputs": [
        {
          "output_type": "stream",
          "name": "stdout",
          "text": [
            "Model: \"sequential_14\"\n",
            "_________________________________________________________________\n",
            " Layer (type)                Output Shape              Param #   \n",
            "=================================================================\n",
            " input_flattened_vector_lay  (None, 784)               0         \n",
            " er (Flatten)                                                    \n",
            "                                                                 \n",
            " fc_hidden_layer_1 (Dense)   (None, 300)               235500    \n",
            "                                                                 \n",
            " fc_hidden_layer_2 (Dense)   (None, 100)               30100     \n",
            "                                                                 \n",
            " output_layer (Dense)        (None, 10)                1010      \n",
            "                                                                 \n",
            "=================================================================\n",
            "Total params: 266610 (1.02 MB)\n",
            "Trainable params: 266610 (1.02 MB)\n",
            "Non-trainable params: 0 (0.00 Byte)\n",
            "_________________________________________________________________\n"
          ]
        }
      ]
    },
    {
      "cell_type": "markdown",
      "source": [
        "Compile model - configure hyperparameters such as:\n",
        "1. Loss function\n",
        "2. Optimizer Algorithm (SGD, SGD + Momentum, Adam,...)\n",
        "3. Metrics (Accuracy, Loss Percentage)"
      ],
      "metadata": {
        "id": "drn4ty6DVra7"
      }
    },
    {
      "cell_type": "code",
      "source": [
        "model.compile(loss='sparse_categorical_crossentropy', optimizer='sgd', metrics=['accuracy'])"
      ],
      "metadata": {
        "id": "2lZYSaFh98OA"
      },
      "execution_count": null,
      "outputs": []
    },
    {
      "cell_type": "markdown",
      "source": [
        "Fit Model: add concrete data for training model:\n",
        "1. Training Set (X image pixels array + Y true label array)\n",
        "2. Num. of Epochs (Num. of iterations network will train whole training data)\n",
        "3. Batch Size (Num. of training set examples to be fed once to Neural Network, so that after every Batch of training data - SGD Algo will run on it and update Weights/Parameters (Trainable Params) according to each batch\n",
        "4. Validation Data/Split: Configure a fraction of the training data as to evaluate accuracy of model after each epoch as 'Validation Set'\n",
        "5. Verbose:"
      ],
      "metadata": {
        "id": "mzFvCLF-WKpp"
      }
    },
    {
      "cell_type": "code",
      "source": [
        "history = model.fit(x_train, y_train, validation_data=(x_valid, y_valid), epochs=30, batch_size=32)"
      ],
      "metadata": {
        "colab": {
          "base_uri": "https://localhost:8080/"
        },
        "id": "uKPj3n0kXNbM",
        "outputId": "667be63d-3a5f-4f1a-f5be-233e9045dc4b"
      },
      "execution_count": null,
      "outputs": [
        {
          "output_type": "stream",
          "name": "stdout",
          "text": [
            "Epoch 1/30\n",
            "1719/1719 [==============================] - 9s 5ms/step - loss: 0.0102 - accuracy: 0.9989 - val_loss: 0.0683 - val_accuracy: 0.9808\n",
            "Epoch 2/30\n",
            "1719/1719 [==============================] - 8s 5ms/step - loss: 0.0097 - accuracy: 0.9991 - val_loss: 0.0676 - val_accuracy: 0.9806\n",
            "Epoch 3/30\n",
            "1719/1719 [==============================] - 7s 4ms/step - loss: 0.0093 - accuracy: 0.9993 - val_loss: 0.0673 - val_accuracy: 0.9810\n",
            "Epoch 4/30\n",
            "1719/1719 [==============================] - 8s 5ms/step - loss: 0.0089 - accuracy: 0.9993 - val_loss: 0.0681 - val_accuracy: 0.9802\n",
            "Epoch 5/30\n",
            "1719/1719 [==============================] - 7s 4ms/step - loss: 0.0084 - accuracy: 0.9995 - val_loss: 0.0685 - val_accuracy: 0.9802\n",
            "Epoch 6/30\n",
            "1719/1719 [==============================] - 8s 5ms/step - loss: 0.0082 - accuracy: 0.9994 - val_loss: 0.0682 - val_accuracy: 0.9810\n",
            "Epoch 7/30\n",
            "1719/1719 [==============================] - 8s 5ms/step - loss: 0.0078 - accuracy: 0.9994 - val_loss: 0.0683 - val_accuracy: 0.9804\n",
            "Epoch 8/30\n",
            "1719/1719 [==============================] - 7s 4ms/step - loss: 0.0075 - accuracy: 0.9995 - val_loss: 0.0699 - val_accuracy: 0.9804\n",
            "Epoch 9/30\n",
            "1719/1719 [==============================] - 9s 5ms/step - loss: 0.0072 - accuracy: 0.9995 - val_loss: 0.0680 - val_accuracy: 0.9810\n",
            "Epoch 10/30\n",
            "1719/1719 [==============================] - 7s 4ms/step - loss: 0.0070 - accuracy: 0.9995 - val_loss: 0.0686 - val_accuracy: 0.9806\n",
            "Epoch 11/30\n",
            "1719/1719 [==============================] - 8s 5ms/step - loss: 0.0066 - accuracy: 0.9997 - val_loss: 0.0686 - val_accuracy: 0.9808\n",
            "Epoch 12/30\n",
            "1719/1719 [==============================] - 10s 6ms/step - loss: 0.0064 - accuracy: 0.9996 - val_loss: 0.0699 - val_accuracy: 0.9800\n",
            "Epoch 13/30\n",
            "1719/1719 [==============================] - 7s 4ms/step - loss: 0.0062 - accuracy: 0.9997 - val_loss: 0.0701 - val_accuracy: 0.9808\n",
            "Epoch 14/30\n",
            "1719/1719 [==============================] - 8s 5ms/step - loss: 0.0059 - accuracy: 0.9997 - val_loss: 0.0759 - val_accuracy: 0.9786\n",
            "Epoch 15/30\n",
            "1719/1719 [==============================] - 8s 5ms/step - loss: 0.0057 - accuracy: 0.9997 - val_loss: 0.0695 - val_accuracy: 0.9810\n",
            "Epoch 16/30\n",
            "1719/1719 [==============================] - 10s 6ms/step - loss: 0.0055 - accuracy: 0.9998 - val_loss: 0.0703 - val_accuracy: 0.9798\n",
            "Epoch 17/30\n",
            "1719/1719 [==============================] - 9s 5ms/step - loss: 0.0053 - accuracy: 0.9998 - val_loss: 0.0692 - val_accuracy: 0.9804\n",
            "Epoch 18/30\n",
            "1719/1719 [==============================] - 8s 5ms/step - loss: 0.0051 - accuracy: 0.9998 - val_loss: 0.0710 - val_accuracy: 0.9816\n",
            "Epoch 19/30\n",
            "1719/1719 [==============================] - 7s 4ms/step - loss: 0.0050 - accuracy: 0.9998 - val_loss: 0.0707 - val_accuracy: 0.9812\n",
            "Epoch 20/30\n",
            "1719/1719 [==============================] - 8s 5ms/step - loss: 0.0048 - accuracy: 0.9999 - val_loss: 0.0709 - val_accuracy: 0.9808\n",
            "Epoch 21/30\n",
            "1719/1719 [==============================] - 8s 5ms/step - loss: 0.0046 - accuracy: 0.9999 - val_loss: 0.0710 - val_accuracy: 0.9806\n",
            "Epoch 22/30\n",
            "1719/1719 [==============================] - 7s 4ms/step - loss: 0.0044 - accuracy: 0.9999 - val_loss: 0.0710 - val_accuracy: 0.9816\n",
            "Epoch 23/30\n",
            "1719/1719 [==============================] - 8s 5ms/step - loss: 0.0043 - accuracy: 0.9999 - val_loss: 0.0712 - val_accuracy: 0.9804\n",
            "Epoch 24/30\n",
            "1719/1719 [==============================] - 7s 4ms/step - loss: 0.0041 - accuracy: 0.9999 - val_loss: 0.0713 - val_accuracy: 0.9808\n",
            "Epoch 25/30\n",
            "1719/1719 [==============================] - 8s 5ms/step - loss: 0.0040 - accuracy: 0.9999 - val_loss: 0.0709 - val_accuracy: 0.9810\n",
            "Epoch 26/30\n",
            "1719/1719 [==============================] - 9s 5ms/step - loss: 0.0039 - accuracy: 0.9999 - val_loss: 0.0714 - val_accuracy: 0.9816\n",
            "Epoch 27/30\n",
            "1719/1719 [==============================] - 7s 4ms/step - loss: 0.0038 - accuracy: 0.9999 - val_loss: 0.0713 - val_accuracy: 0.9804\n",
            "Epoch 28/30\n",
            "1719/1719 [==============================] - 8s 5ms/step - loss: 0.0037 - accuracy: 0.9999 - val_loss: 0.0712 - val_accuracy: 0.9812\n",
            "Epoch 29/30\n",
            "1719/1719 [==============================] - 8s 4ms/step - loss: 0.0036 - accuracy: 1.0000 - val_loss: 0.0715 - val_accuracy: 0.9802\n",
            "Epoch 30/30\n",
            "1719/1719 [==============================] - 8s 5ms/step - loss: 0.0035 - accuracy: 1.0000 - val_loss: 0.0714 - val_accuracy: 0.9818\n"
          ]
        }
      ]
    },
    {
      "cell_type": "code",
      "source": [
        "import pandas as pd\n",
        "\n",
        "pd.DataFrame(history.history).plot(figsize=(15,8))\n",
        "plt.grid(True)\n",
        "plt.gca().set_ylim(0,1)\n",
        "plt.show()"
      ],
      "metadata": {
        "colab": {
          "base_uri": "https://localhost:8080/",
          "height": 476
        },
        "id": "gB2Enb-pUoow",
        "outputId": "9b399779-5bc1-4833-fbc1-becc38e73c4e"
      },
      "execution_count": null,
      "outputs": [
        {
          "output_type": "display_data",
          "data": {
            "text/plain": [
              "<Figure size 1500x800 with 1 Axes>"
            ],
            "image/png": "[encoded data removed]"
          },
          "metadata": {}
        }
      ]
    },
    {
      "cell_type": "markdown",
      "source": [
        "Model Evaluation - based on Test Set"
      ],
      "metadata": {
        "id": "OR79B-I5bg2w"
      }
    },
    {
      "cell_type": "code",
      "source": [
        "model.evaluate(x_test, y_test)"
      ],
      "metadata": {
        "colab": {
          "base_uri": "https://localhost:8080/"
        },
        "id": "iHwXWSECbj95",
        "outputId": "4e272451-4962-4081-a8f0-1632138a3246"
      },
      "execution_count": null,
      "outputs": [
        {
          "output_type": "stream",
          "name": "stdout",
          "text": [
            "313/313 [==============================] - 1s 2ms/step - loss: 0.0719 - accuracy: 0.9792\n"
          ]
        },
        {
          "output_type": "execute_result",
          "data": {
            "text/plain": [
              "[0.0719265267252922, 0.979200005531311]"
            ]
          },
          "metadata": {},
          "execution_count": 76
        }
      ]
    },
    {
      "cell_type": "markdown",
      "source": [
        "Model Prediction (based on Test Set X's only -> predict Y's labels)\n",
        "Outputs for each example in the Test Set a 10x1 vector, with scores associated to each class label"
      ],
      "metadata": {
        "id": "dy6NKqZBb8lq"
      }
    },
    {
      "cell_type": "code",
      "source": [
        "model.predict(x_test)"
      ],
      "metadata": {
        "colab": {
          "base_uri": "https://localhost:8080/"
        },
        "id": "g1__u4DccOPh",
        "outputId": "66dd2368-b4f5-44f1-fbe4-c20fd596a610"
      },
      "execution_count": null,
      "outputs": [
        {
          "output_type": "stream",
          "name": "stdout",
          "text": [
            "313/313 [==============================] - 3s 8ms/step\n"
          ]
        },
        {
          "output_type": "execute_result",
          "data": {
            "text/plain": [
              "array([[3.1316645e-09, 3.0571479e-09, 1.2190115e-07, ..., 9.9998289e-01,\n",
              "        1.4625475e-07, 4.6770529e-06],\n",
              "       [2.0326283e-08, 1.4512983e-06, 9.9999839e-01, ..., 7.3329125e-15,\n",
              "        1.2079796e-07, 3.5109503e-18],\n",
              "       [1.6275149e-07, 9.9958724e-01, 8.5539950e-06, ..., 9.3037073e-05,\n",
              "        2.7181857e-04, 4.1422801e-08],\n",
              "       ...,\n",
              "       [1.4454742e-13, 2.0284707e-12, 5.0375125e-15, ..., 2.8338299e-08,\n",
              "        5.1457320e-08, 3.1991632e-07],\n",
              "       [1.7254842e-10, 2.5135332e-12, 8.6851984e-16, ..., 6.6036976e-12,\n",
              "        2.3149892e-07, 2.2956943e-15],\n",
              "       [3.7680845e-11, 2.8231064e-15, 5.7110484e-12, ..., 1.1658527e-17,\n",
              "        1.6651232e-11, 1.6809314e-15]], dtype=float32)"
            ]
          },
          "metadata": {},
          "execution_count": 77
        }
      ]
    },
    {
      "cell_type": "markdown",
      "source": [
        "Extension to model.predict function\n",
        "Returns an array of size of Test Set (# of examples in it), with highest score of it. Returns class label index with highest probability, based on 10x1 vector returned for each example in Test Set"
      ],
      "metadata": {
        "id": "gxwQjxnhcTaC"
      }
    },
    {
      "cell_type": "code",
      "source": [
        "y_prob = model.predict(x_test)\n",
        "y_predict_classes = y_prob.argmax(axis=-1)\n",
        "y_predict_classes"
      ],
      "metadata": {
        "colab": {
          "base_uri": "https://localhost:8080/"
        },
        "id": "ywIA1QdRcwy8",
        "outputId": "2450238e-75b6-4141-e403-ced2cd8ff07f"
      },
      "execution_count": null,
      "outputs": [
        {
          "output_type": "stream",
          "name": "stdout",
          "text": [
            "313/313 [==============================] - 1s 2ms/step\n"
          ]
        },
        {
          "output_type": "execute_result",
          "data": {
            "text/plain": [
              "array([7, 2, 1, ..., 4, 5, 6])"
            ]
          },
          "metadata": {},
          "execution_count": 78
        }
      ]
    }
  ]
}